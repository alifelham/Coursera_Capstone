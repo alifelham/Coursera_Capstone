{
 "cells": [
  {
   "cell_type": "markdown",
   "metadata": {},
   "source": [
    "# Machine Learning Assignment Week 3 Final"
   ]
  },
  {
   "cell_type": "markdown",
   "metadata": {},
   "source": [
    "### Part 1: Transfering Data in Padas dataframe using BeautifulSoup"
   ]
  },
  {
   "cell_type": "markdown",
   "metadata": {},
   "source": [
    "###### Installing BeautifulSoup Library"
   ]
  },
  {
   "cell_type": "code",
   "execution_count": 5,
   "metadata": {},
   "outputs": [
    {
     "name": "stdout",
     "output_type": "stream",
     "text": [
      "Requirement already satisfied: BeautifulSoup4 in /srv/conda/envs/notebook/lib/python3.7/site-packages (4.8.1)\n",
      "Requirement already satisfied: soupsieve>=1.2 in /srv/conda/envs/notebook/lib/python3.7/site-packages (from BeautifulSoup4) (1.9.4)\n",
      "Note: you may need to restart the kernel to use updated packages.\n"
     ]
    }
   ],
   "source": [
    "pip install BeautifulSoup4"
   ]
  },
  {
   "cell_type": "markdown",
   "metadata": {},
   "source": [
    "###### Importing required libraries"
   ]
  },
  {
   "cell_type": "code",
   "execution_count": 1,
   "metadata": {},
   "outputs": [],
   "source": [
    "import pandas as pd\n",
    "from bs4 import BeautifulSoup\n",
    "import requests\n"
   ]
  },
  {
   "cell_type": "markdown",
   "metadata": {},
   "source": [
    "##### Fetching data from Wikipedia"
   ]
  },
  {
   "cell_type": "code",
   "execution_count": 2,
   "metadata": {},
   "outputs": [],
   "source": [
    "source = requests.get('https://en.wikipedia.org/wiki/List_of_postal_codes_of_Canada:_M').text"
   ]
  },
  {
   "cell_type": "code",
   "execution_count": 3,
   "metadata": {},
   "outputs": [],
   "source": [
    "soup = BeautifulSoup(source, 'html.parser')"
   ]
  },
  {
   "cell_type": "markdown",
   "metadata": {},
   "source": [
    "##### Converting data into pandas dataframe"
   ]
  },
  {
   "cell_type": "code",
   "execution_count": 4,
   "metadata": {},
   "outputs": [
    {
     "data": {
      "text/html": [
       "<div>\n",
       "<style scoped>\n",
       "    .dataframe tbody tr th:only-of-type {\n",
       "        vertical-align: middle;\n",
       "    }\n",
       "\n",
       "    .dataframe tbody tr th {\n",
       "        vertical-align: top;\n",
       "    }\n",
       "\n",
       "    .dataframe thead th {\n",
       "        text-align: right;\n",
       "    }\n",
       "</style>\n",
       "<table border=\"1\" class=\"dataframe\">\n",
       "  <thead>\n",
       "    <tr style=\"text-align: right;\">\n",
       "      <th></th>\n",
       "      <th>PostCode</th>\n",
       "      <th>Borough</th>\n",
       "      <th>Neighborhood</th>\n",
       "    </tr>\n",
       "  </thead>\n",
       "  <tbody>\n",
       "    <tr>\n",
       "      <th>0</th>\n",
       "      <td>M1A</td>\n",
       "      <td>Not assigned</td>\n",
       "      <td>Not assigned\\n</td>\n",
       "    </tr>\n",
       "    <tr>\n",
       "      <th>1</th>\n",
       "      <td>M2A</td>\n",
       "      <td>Not assigned</td>\n",
       "      <td>Not assigned\\n</td>\n",
       "    </tr>\n",
       "    <tr>\n",
       "      <th>2</th>\n",
       "      <td>M3A</td>\n",
       "      <td>North York</td>\n",
       "      <td>Parkwoods\\n</td>\n",
       "    </tr>\n",
       "    <tr>\n",
       "      <th>3</th>\n",
       "      <td>M4A</td>\n",
       "      <td>North York</td>\n",
       "      <td>Victoria Village\\n</td>\n",
       "    </tr>\n",
       "    <tr>\n",
       "      <th>4</th>\n",
       "      <td>M5A</td>\n",
       "      <td>Downtown Toronto</td>\n",
       "      <td>Harbourfront\\n</td>\n",
       "    </tr>\n",
       "  </tbody>\n",
       "</table>\n",
       "</div>"
      ],
      "text/plain": [
       "  PostCode           Borough        Neighborhood\n",
       "0      M1A      Not assigned      Not assigned\\n\n",
       "1      M2A      Not assigned      Not assigned\\n\n",
       "2      M3A        North York         Parkwoods\\n\n",
       "3      M4A        North York  Victoria Village\\n\n",
       "4      M5A  Downtown Toronto      Harbourfront\\n"
      ]
     },
     "execution_count": 4,
     "metadata": {},
     "output_type": "execute_result"
    }
   ],
   "source": [
    "data = soup.find('table', class_='wikitable sortable').tbody\n",
    "# print(data)\n",
    "\n",
    "columns = ['PostCode', 'Borough', 'Neighborhood']\n",
    "toronto_df = pd.DataFrame(columns=columns)\n",
    "\n",
    "for row in data.find_all('tr'):\n",
    "    row_data = []\n",
    "    for col in row.find_all('td'):\n",
    "        row_data.append(col.text)\n",
    "        \n",
    "    if row_data:\n",
    "        df = pd.DataFrame({\"PostCode\" : [row_data[0]],\n",
    "                      \"Borough\" : [row_data[1]],\n",
    "                      \"Neighborhood\" : [row_data[2]]})\n",
    "        toronto_df = toronto_df.append(df, ignore_index=True)\n",
    "toronto_df.head()"
   ]
  },
  {
   "cell_type": "markdown",
   "metadata": {},
   "source": [
    "##### Cleaning the data"
   ]
  },
  {
   "cell_type": "code",
   "execution_count": 5,
   "metadata": {},
   "outputs": [],
   "source": [
    "toronto_df['Neighborhood'] = [value.split('\\n')[0] for value in toronto_df['Neighborhood']]\n",
    "\n",
    "# Removing all rows having 'Not assigned' value to both Neighborhood and Borough column\n",
    "toronto_df = toronto_df[(toronto_df.Neighborhood != 'Not assigned') | (toronto_df.Borough != 'Not assigned')]\n",
    "\n",
    "# Assigning Borough to Neighborhood columns having values as 'Not assigned'\n",
    "toronto_df.loc[toronto_df.Neighborhood == 'Not assigned', 'Neighborhood'] = toronto_df['Borough']"
   ]
  },
  {
   "cell_type": "markdown",
   "metadata": {},
   "source": [
    "##### Merging rows having same 'PostCode' values"
   ]
  },
  {
   "cell_type": "code",
   "execution_count": 6,
   "metadata": {},
   "outputs": [],
   "source": [
    "toronto_df = toronto_df.groupby('PostCode', as_index=False).agg(','.join)\n",
    "toronto_df['Borough'] = toronto_df['Borough'].str.split(',').str[0]"
   ]
  },
  {
   "cell_type": "code",
   "execution_count": 7,
   "metadata": {},
   "outputs": [
    {
     "data": {
      "text/html": [
       "<div>\n",
       "<style scoped>\n",
       "    .dataframe tbody tr th:only-of-type {\n",
       "        vertical-align: middle;\n",
       "    }\n",
       "\n",
       "    .dataframe tbody tr th {\n",
       "        vertical-align: top;\n",
       "    }\n",
       "\n",
       "    .dataframe thead th {\n",
       "        text-align: right;\n",
       "    }\n",
       "</style>\n",
       "<table border=\"1\" class=\"dataframe\">\n",
       "  <thead>\n",
       "    <tr style=\"text-align: right;\">\n",
       "      <th></th>\n",
       "      <th>PostCode</th>\n",
       "      <th>Borough</th>\n",
       "      <th>Neighborhood</th>\n",
       "    </tr>\n",
       "  </thead>\n",
       "  <tbody>\n",
       "    <tr>\n",
       "      <th>0</th>\n",
       "      <td>M1B</td>\n",
       "      <td>Scarborough</td>\n",
       "      <td>Rouge,Malvern</td>\n",
       "    </tr>\n",
       "    <tr>\n",
       "      <th>1</th>\n",
       "      <td>M1C</td>\n",
       "      <td>Scarborough</td>\n",
       "      <td>Highland Creek,Rouge Hill,Port Union</td>\n",
       "    </tr>\n",
       "    <tr>\n",
       "      <th>2</th>\n",
       "      <td>M1E</td>\n",
       "      <td>Scarborough</td>\n",
       "      <td>Guildwood,Morningside,West Hill</td>\n",
       "    </tr>\n",
       "    <tr>\n",
       "      <th>3</th>\n",
       "      <td>M1G</td>\n",
       "      <td>Scarborough</td>\n",
       "      <td>Woburn</td>\n",
       "    </tr>\n",
       "    <tr>\n",
       "      <th>4</th>\n",
       "      <td>M1H</td>\n",
       "      <td>Scarborough</td>\n",
       "      <td>Cedarbrae</td>\n",
       "    </tr>\n",
       "    <tr>\n",
       "      <th>5</th>\n",
       "      <td>M1J</td>\n",
       "      <td>Scarborough</td>\n",
       "      <td>Scarborough Village</td>\n",
       "    </tr>\n",
       "    <tr>\n",
       "      <th>6</th>\n",
       "      <td>M1K</td>\n",
       "      <td>Scarborough</td>\n",
       "      <td>East Birchmount Park,Ionview,Kennedy Park</td>\n",
       "    </tr>\n",
       "    <tr>\n",
       "      <th>7</th>\n",
       "      <td>M1L</td>\n",
       "      <td>Scarborough</td>\n",
       "      <td>Clairlea,Golden Mile,Oakridge</td>\n",
       "    </tr>\n",
       "    <tr>\n",
       "      <th>8</th>\n",
       "      <td>M1M</td>\n",
       "      <td>Scarborough</td>\n",
       "      <td>Cliffcrest,Cliffside,Scarborough Village West</td>\n",
       "    </tr>\n",
       "    <tr>\n",
       "      <th>9</th>\n",
       "      <td>M1N</td>\n",
       "      <td>Scarborough</td>\n",
       "      <td>Birch Cliff,Cliffside West</td>\n",
       "    </tr>\n",
       "    <tr>\n",
       "      <th>10</th>\n",
       "      <td>M1P</td>\n",
       "      <td>Scarborough</td>\n",
       "      <td>Dorset Park,Scarborough Town Centre,Wexford He...</td>\n",
       "    </tr>\n",
       "    <tr>\n",
       "      <th>11</th>\n",
       "      <td>M1R</td>\n",
       "      <td>Scarborough</td>\n",
       "      <td>Maryvale,Wexford</td>\n",
       "    </tr>\n",
       "  </tbody>\n",
       "</table>\n",
       "</div>"
      ],
      "text/plain": [
       "   PostCode      Borough                                       Neighborhood\n",
       "0       M1B  Scarborough                                      Rouge,Malvern\n",
       "1       M1C  Scarborough               Highland Creek,Rouge Hill,Port Union\n",
       "2       M1E  Scarborough                    Guildwood,Morningside,West Hill\n",
       "3       M1G  Scarborough                                             Woburn\n",
       "4       M1H  Scarborough                                          Cedarbrae\n",
       "5       M1J  Scarborough                                Scarborough Village\n",
       "6       M1K  Scarborough          East Birchmount Park,Ionview,Kennedy Park\n",
       "7       M1L  Scarborough                      Clairlea,Golden Mile,Oakridge\n",
       "8       M1M  Scarborough      Cliffcrest,Cliffside,Scarborough Village West\n",
       "9       M1N  Scarborough                         Birch Cliff,Cliffside West\n",
       "10      M1P  Scarborough  Dorset Park,Scarborough Town Centre,Wexford He...\n",
       "11      M1R  Scarborough                                   Maryvale,Wexford"
      ]
     },
     "execution_count": 7,
     "metadata": {},
     "output_type": "execute_result"
    }
   ],
   "source": [
    "toronto_df.head(12)\n"
   ]
  },
  {
   "cell_type": "code",
   "execution_count": 8,
   "metadata": {},
   "outputs": [
    {
     "data": {
      "text/plain": [
       "(103, 3)"
      ]
     },
     "execution_count": 8,
     "metadata": {},
     "output_type": "execute_result"
    }
   ],
   "source": [
    "toronto_df.shape"
   ]
  },
  {
   "cell_type": "markdown",
   "metadata": {},
   "source": [
    "##### This fulfils the assignment requirement of showing that there are 103 rows and 3 columns to this data frame from which the first 12 rows have been displayed."
   ]
  },
  {
   "cell_type": "markdown",
   "metadata": {},
   "source": [
    "##### Save for future"
   ]
  },
  {
   "cell_type": "code",
   "execution_count": 9,
   "metadata": {},
   "outputs": [],
   "source": [
    "toronto_df.to_csv('task1.csv', index=False)"
   ]
  },
  {
   "cell_type": "markdown",
   "metadata": {},
   "source": [
    " ## 2. Collecting Lattitude and Longitude from Post Codes"
   ]
  },
  {
   "cell_type": "code",
   "execution_count": 10,
   "metadata": {},
   "outputs": [
    {
     "data": {
      "text/html": [
       "<div>\n",
       "<style scoped>\n",
       "    .dataframe tbody tr th:only-of-type {\n",
       "        vertical-align: middle;\n",
       "    }\n",
       "\n",
       "    .dataframe tbody tr th {\n",
       "        vertical-align: top;\n",
       "    }\n",
       "\n",
       "    .dataframe thead th {\n",
       "        text-align: right;\n",
       "    }\n",
       "</style>\n",
       "<table border=\"1\" class=\"dataframe\">\n",
       "  <thead>\n",
       "    <tr style=\"text-align: right;\">\n",
       "      <th></th>\n",
       "      <th>PostCode</th>\n",
       "      <th>Borough</th>\n",
       "      <th>Neighborhood</th>\n",
       "    </tr>\n",
       "  </thead>\n",
       "  <tbody>\n",
       "    <tr>\n",
       "      <th>0</th>\n",
       "      <td>M1B</td>\n",
       "      <td>Scarborough</td>\n",
       "      <td>Rouge,Malvern</td>\n",
       "    </tr>\n",
       "    <tr>\n",
       "      <th>1</th>\n",
       "      <td>M1C</td>\n",
       "      <td>Scarborough</td>\n",
       "      <td>Highland Creek,Rouge Hill,Port Union</td>\n",
       "    </tr>\n",
       "    <tr>\n",
       "      <th>2</th>\n",
       "      <td>M1E</td>\n",
       "      <td>Scarborough</td>\n",
       "      <td>Guildwood,Morningside,West Hill</td>\n",
       "    </tr>\n",
       "    <tr>\n",
       "      <th>3</th>\n",
       "      <td>M1G</td>\n",
       "      <td>Scarborough</td>\n",
       "      <td>Woburn</td>\n",
       "    </tr>\n",
       "    <tr>\n",
       "      <th>4</th>\n",
       "      <td>M1H</td>\n",
       "      <td>Scarborough</td>\n",
       "      <td>Cedarbrae</td>\n",
       "    </tr>\n",
       "  </tbody>\n",
       "</table>\n",
       "</div>"
      ],
      "text/plain": [
       "  PostCode      Borough                          Neighborhood\n",
       "0      M1B  Scarborough                         Rouge,Malvern\n",
       "1      M1C  Scarborough  Highland Creek,Rouge Hill,Port Union\n",
       "2      M1E  Scarborough       Guildwood,Morningside,West Hill\n",
       "3      M1G  Scarborough                                Woburn\n",
       "4      M1H  Scarborough                             Cedarbrae"
      ]
     },
     "execution_count": 10,
     "metadata": {},
     "output_type": "execute_result"
    }
   ],
   "source": [
    "import pandas as pd\n",
    "df = pd.read_csv('task1.csv')\n",
    "df.head()"
   ]
  },
  {
   "cell_type": "markdown",
   "metadata": {},
   "source": [
    "###### Installing the geocoder library "
   ]
  },
  {
   "cell_type": "code",
   "execution_count": 11,
   "metadata": {},
   "outputs": [
    {
     "name": "stdout",
     "output_type": "stream",
     "text": [
      "Requirement already satisfied: geocoder in /srv/conda/envs/notebook/lib/python3.7/site-packages (1.38.1)\n",
      "Requirement already satisfied: requests in /srv/conda/envs/notebook/lib/python3.7/site-packages (from geocoder) (2.22.0)\n",
      "Requirement already satisfied: six in /srv/conda/envs/notebook/lib/python3.7/site-packages (from geocoder) (1.12.0)\n",
      "Requirement already satisfied: ratelim in /srv/conda/envs/notebook/lib/python3.7/site-packages (from geocoder) (0.1.6)\n",
      "Requirement already satisfied: click in /srv/conda/envs/notebook/lib/python3.7/site-packages (from geocoder) (7.0)\n",
      "Requirement already satisfied: future in /srv/conda/envs/notebook/lib/python3.7/site-packages (from geocoder) (0.18.1)\n",
      "Requirement already satisfied: chardet<3.1.0,>=3.0.2 in /srv/conda/envs/notebook/lib/python3.7/site-packages (from requests->geocoder) (3.0.4)\n",
      "Requirement already satisfied: certifi>=2017.4.17 in /srv/conda/envs/notebook/lib/python3.7/site-packages (from requests->geocoder) (2019.6.16)\n",
      "Requirement already satisfied: urllib3!=1.25.0,!=1.25.1,<1.26,>=1.21.1 in /srv/conda/envs/notebook/lib/python3.7/site-packages (from requests->geocoder) (1.25.3)\n",
      "Requirement already satisfied: idna<2.9,>=2.5 in /srv/conda/envs/notebook/lib/python3.7/site-packages (from requests->geocoder) (2.8)\n",
      "Requirement already satisfied: decorator in /srv/conda/envs/notebook/lib/python3.7/site-packages (from ratelim->geocoder) (4.4.0)\n"
     ]
    }
   ],
   "source": [
    "!pip install geocoder\n",
    "import geocoder"
   ]
  },
  {
   "cell_type": "markdown",
   "metadata": {},
   "source": [
    "##### Collecting Location Coordinates"
   ]
  },
  {
   "cell_type": "code",
   "execution_count": 12,
   "metadata": {},
   "outputs": [
    {
     "data": {
      "text/plain": [
       "[43.70949500000006, -79.36398897099997]"
      ]
     },
     "execution_count": 12,
     "metadata": {},
     "output_type": "execute_result"
    }
   ],
   "source": [
    "def get_latlng(postal_code):\n",
    "    # initialize your variable to None\n",
    "    lat_lng_coords = None\n",
    "    # loop until you get the coordinates\n",
    "    while(lat_lng_coords is None):\n",
    "        g = geocoder.arcgis('{}, Toronto, Ontario'.format(postal_code))\n",
    "        lat_lng_coords = g.latlng\n",
    "    return lat_lng_coords\n",
    "    \n",
    "get_latlng('M4G')"
   ]
  },
  {
   "cell_type": "code",
   "execution_count": 13,
   "metadata": {},
   "outputs": [],
   "source": [
    "post_codes = df['PostCode']    \n",
    "coords = [ get_latlng(post_code) for post_code in post_codes.tolist() ]"
   ]
  },
  {
   "cell_type": "code",
   "execution_count": 14,
   "metadata": {},
   "outputs": [],
   "source": [
    "df_coords = pd.DataFrame(coords, columns=['Latitude', 'Longitude'])\n",
    "df['Latitude'] = df_coords['Latitude']\n",
    "df['Longitude'] = df_coords['Longitude']"
   ]
  },
  {
   "cell_type": "code",
   "execution_count": 15,
   "metadata": {},
   "outputs": [
    {
     "data": {
      "text/html": [
       "<div>\n",
       "<style scoped>\n",
       "    .dataframe tbody tr th:only-of-type {\n",
       "        vertical-align: middle;\n",
       "    }\n",
       "\n",
       "    .dataframe tbody tr th {\n",
       "        vertical-align: top;\n",
       "    }\n",
       "\n",
       "    .dataframe thead th {\n",
       "        text-align: right;\n",
       "    }\n",
       "</style>\n",
       "<table border=\"1\" class=\"dataframe\">\n",
       "  <thead>\n",
       "    <tr style=\"text-align: right;\">\n",
       "      <th></th>\n",
       "      <th>PostCode</th>\n",
       "      <th>Borough</th>\n",
       "      <th>Neighborhood</th>\n",
       "      <th>Latitude</th>\n",
       "      <th>Longitude</th>\n",
       "    </tr>\n",
       "  </thead>\n",
       "  <tbody>\n",
       "    <tr>\n",
       "      <th>0</th>\n",
       "      <td>M1B</td>\n",
       "      <td>Scarborough</td>\n",
       "      <td>Rouge,Malvern</td>\n",
       "      <td>43.811525</td>\n",
       "      <td>-79.195517</td>\n",
       "    </tr>\n",
       "    <tr>\n",
       "      <th>1</th>\n",
       "      <td>M1C</td>\n",
       "      <td>Scarborough</td>\n",
       "      <td>Highland Creek,Rouge Hill,Port Union</td>\n",
       "      <td>43.785665</td>\n",
       "      <td>-79.158725</td>\n",
       "    </tr>\n",
       "    <tr>\n",
       "      <th>2</th>\n",
       "      <td>M1E</td>\n",
       "      <td>Scarborough</td>\n",
       "      <td>Guildwood,Morningside,West Hill</td>\n",
       "      <td>43.765815</td>\n",
       "      <td>-79.175193</td>\n",
       "    </tr>\n",
       "    <tr>\n",
       "      <th>3</th>\n",
       "      <td>M1G</td>\n",
       "      <td>Scarborough</td>\n",
       "      <td>Woburn</td>\n",
       "      <td>43.768369</td>\n",
       "      <td>-79.217590</td>\n",
       "    </tr>\n",
       "    <tr>\n",
       "      <th>4</th>\n",
       "      <td>M1H</td>\n",
       "      <td>Scarborough</td>\n",
       "      <td>Cedarbrae</td>\n",
       "      <td>43.769688</td>\n",
       "      <td>-79.239440</td>\n",
       "    </tr>\n",
       "    <tr>\n",
       "      <th>5</th>\n",
       "      <td>M1J</td>\n",
       "      <td>Scarborough</td>\n",
       "      <td>Scarborough Village</td>\n",
       "      <td>43.743125</td>\n",
       "      <td>-79.231750</td>\n",
       "    </tr>\n",
       "    <tr>\n",
       "      <th>6</th>\n",
       "      <td>M1K</td>\n",
       "      <td>Scarborough</td>\n",
       "      <td>East Birchmount Park,Ionview,Kennedy Park</td>\n",
       "      <td>43.726276</td>\n",
       "      <td>-79.263625</td>\n",
       "    </tr>\n",
       "    <tr>\n",
       "      <th>7</th>\n",
       "      <td>M1L</td>\n",
       "      <td>Scarborough</td>\n",
       "      <td>Clairlea,Golden Mile,Oakridge</td>\n",
       "      <td>43.713054</td>\n",
       "      <td>-79.285055</td>\n",
       "    </tr>\n",
       "    <tr>\n",
       "      <th>8</th>\n",
       "      <td>M1M</td>\n",
       "      <td>Scarborough</td>\n",
       "      <td>Cliffcrest,Cliffside,Scarborough Village West</td>\n",
       "      <td>43.724235</td>\n",
       "      <td>-79.227925</td>\n",
       "    </tr>\n",
       "    <tr>\n",
       "      <th>9</th>\n",
       "      <td>M1N</td>\n",
       "      <td>Scarborough</td>\n",
       "      <td>Birch Cliff,Cliffside West</td>\n",
       "      <td>43.696770</td>\n",
       "      <td>-79.259967</td>\n",
       "    </tr>\n",
       "    <tr>\n",
       "      <th>10</th>\n",
       "      <td>M1P</td>\n",
       "      <td>Scarborough</td>\n",
       "      <td>Dorset Park,Scarborough Town Centre,Wexford He...</td>\n",
       "      <td>43.759975</td>\n",
       "      <td>-79.268974</td>\n",
       "    </tr>\n",
       "    <tr>\n",
       "      <th>11</th>\n",
       "      <td>M1R</td>\n",
       "      <td>Scarborough</td>\n",
       "      <td>Maryvale,Wexford</td>\n",
       "      <td>43.750710</td>\n",
       "      <td>-79.300560</td>\n",
       "    </tr>\n",
       "  </tbody>\n",
       "</table>\n",
       "</div>"
      ],
      "text/plain": [
       "   PostCode      Borough                                       Neighborhood  \\\n",
       "0       M1B  Scarborough                                      Rouge,Malvern   \n",
       "1       M1C  Scarborough               Highland Creek,Rouge Hill,Port Union   \n",
       "2       M1E  Scarborough                    Guildwood,Morningside,West Hill   \n",
       "3       M1G  Scarborough                                             Woburn   \n",
       "4       M1H  Scarborough                                          Cedarbrae   \n",
       "5       M1J  Scarborough                                Scarborough Village   \n",
       "6       M1K  Scarborough          East Birchmount Park,Ionview,Kennedy Park   \n",
       "7       M1L  Scarborough                      Clairlea,Golden Mile,Oakridge   \n",
       "8       M1M  Scarborough      Cliffcrest,Cliffside,Scarborough Village West   \n",
       "9       M1N  Scarborough                         Birch Cliff,Cliffside West   \n",
       "10      M1P  Scarborough  Dorset Park,Scarborough Town Centre,Wexford He...   \n",
       "11      M1R  Scarborough                                   Maryvale,Wexford   \n",
       "\n",
       "     Latitude  Longitude  \n",
       "0   43.811525 -79.195517  \n",
       "1   43.785665 -79.158725  \n",
       "2   43.765815 -79.175193  \n",
       "3   43.768369 -79.217590  \n",
       "4   43.769688 -79.239440  \n",
       "5   43.743125 -79.231750  \n",
       "6   43.726276 -79.263625  \n",
       "7   43.713054 -79.285055  \n",
       "8   43.724235 -79.227925  \n",
       "9   43.696770 -79.259967  \n",
       "10  43.759975 -79.268974  \n",
       "11  43.750710 -79.300560  "
      ]
     },
     "execution_count": 15,
     "metadata": {},
     "output_type": "execute_result"
    }
   ],
   "source": [
    "df.head(12)"
   ]
  },
  {
   "cell_type": "code",
   "execution_count": 16,
   "metadata": {},
   "outputs": [
    {
     "data": {
      "text/plain": [
       "(103, 5)"
      ]
     },
     "execution_count": 16,
     "metadata": {},
     "output_type": "execute_result"
    }
   ],
   "source": [
    "df.shape"
   ]
  },
  {
   "cell_type": "markdown",
   "metadata": {},
   "source": [
    "##### This suffices the assignment requirement of producing a dataframe containing 103 rows and 5 columns including logitude and lattitude coordinates. The first 12 rows have been displayed. "
   ]
  },
  {
   "cell_type": "markdown",
   "metadata": {},
   "source": [
    "##### Saving for future"
   ]
  },
  {
   "cell_type": "code",
   "execution_count": 17,
   "metadata": {},
   "outputs": [],
   "source": [
    "df.to_csv('task2.csv', index=False)"
   ]
  },
  {
   "cell_type": "markdown",
   "metadata": {},
   "source": [
    "### 3. Exploring and Clustering the Toronto Neighborhoods "
   ]
  },
  {
   "cell_type": "markdown",
   "metadata": {},
   "source": [
    "##### Installing geopy anf folium"
   ]
  },
  {
   "cell_type": "code",
   "execution_count": 18,
   "metadata": {},
   "outputs": [
    {
     "name": "stdout",
     "output_type": "stream",
     "text": [
      "Requirement already satisfied: geopy in /srv/conda/envs/notebook/lib/python3.7/site-packages (1.20.0)\n",
      "Requirement already satisfied: geographiclib<2,>=1.49 in /srv/conda/envs/notebook/lib/python3.7/site-packages (from geopy) (1.50)\n",
      "Note: you may need to restart the kernel to use updated packages.\n"
     ]
    }
   ],
   "source": [
    "pip install geopy"
   ]
  },
  {
   "cell_type": "code",
   "execution_count": 19,
   "metadata": {},
   "outputs": [
    {
     "name": "stdout",
     "output_type": "stream",
     "text": [
      "Requirement already satisfied: folium in /srv/conda/envs/notebook/lib/python3.7/site-packages (0.10.0)\n",
      "Requirement already satisfied: jinja2>=2.9 in /srv/conda/envs/notebook/lib/python3.7/site-packages (from folium) (2.10.1)\n",
      "Requirement already satisfied: branca>=0.3.0 in /srv/conda/envs/notebook/lib/python3.7/site-packages (from folium) (0.3.1)\n",
      "Requirement already satisfied: numpy in /srv/conda/envs/notebook/lib/python3.7/site-packages (from folium) (1.16.4)\n",
      "Requirement already satisfied: requests in /srv/conda/envs/notebook/lib/python3.7/site-packages (from folium) (2.22.0)\n",
      "Requirement already satisfied: MarkupSafe>=0.23 in /srv/conda/envs/notebook/lib/python3.7/site-packages (from jinja2>=2.9->folium) (1.1.1)\n",
      "Requirement already satisfied: six in /srv/conda/envs/notebook/lib/python3.7/site-packages (from branca>=0.3.0->folium) (1.12.0)\n",
      "Requirement already satisfied: idna<2.9,>=2.5 in /srv/conda/envs/notebook/lib/python3.7/site-packages (from requests->folium) (2.8)\n",
      "Requirement already satisfied: certifi>=2017.4.17 in /srv/conda/envs/notebook/lib/python3.7/site-packages (from requests->folium) (2019.6.16)\n",
      "Requirement already satisfied: chardet<3.1.0,>=3.0.2 in /srv/conda/envs/notebook/lib/python3.7/site-packages (from requests->folium) (3.0.4)\n",
      "Requirement already satisfied: urllib3!=1.25.0,!=1.25.1,<1.26,>=1.21.1 in /srv/conda/envs/notebook/lib/python3.7/site-packages (from requests->folium) (1.25.3)\n",
      "Note: you may need to restart the kernel to use updated packages.\n"
     ]
    }
   ],
   "source": [
    "pip install folium"
   ]
  },
  {
   "cell_type": "code",
   "execution_count": 20,
   "metadata": {},
   "outputs": [],
   "source": [
    "from geopy.geocoders import Nominatim\n",
    "import folium\n",
    "import numpy as np\n",
    "from sklearn.cluster import KMeans\n",
    "\n",
    "import matplotlib.cm as cm\n",
    "import matplotlib.colors as colors"
   ]
  },
  {
   "cell_type": "markdown",
   "metadata": {},
   "source": [
    "##### Fetching geo coordinates"
   ]
  },
  {
   "cell_type": "code",
   "execution_count": 21,
   "metadata": {},
   "outputs": [
    {
     "name": "stdout",
     "output_type": "stream",
     "text": [
      "The geograpical coordinates of Toronto are 43.653963, -79.387207.\n"
     ]
    }
   ],
   "source": [
    "address = 'Toronto, Ontario'\n",
    "\n",
    "geolocator = Nominatim(user_agent=\"tl-toronto-neigh\")\n",
    "location = geolocator.geocode(address)\n",
    "latitude = location.latitude\n",
    "longitude = location.longitude\n",
    "print('The geograpical coordinates of Toronto are {}, {}.'.format(latitude, longitude))"
   ]
  },
  {
   "cell_type": "markdown",
   "metadata": {},
   "source": [
    "##### Creating a Map of Toronto with Boroughs markers on top using Folium"
   ]
  },
  {
   "cell_type": "code",
   "execution_count": 22,
   "metadata": {},
   "outputs": [
    {
     "data": {
      "text/html": [
       "<div style=\"width:100%;\"><div style=\"position:relative;width:100%;height:0;padding-bottom:60%;\"><iframe src=\"data:text/html;charset=utf-8;base64,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\" style=\"position:absolute;width:100%;height:100%;left:0;top:0;border:none !important;\" allowfullscreen webkitallowfullscreen mozallowfullscreen></iframe></div></div>"
      ],
      "text/plain": [
       "<folium.folium.Map at 0x7fed4a377320>"
      ]
     },
     "execution_count": 22,
     "metadata": {},
     "output_type": "execute_result"
    }
   ],
   "source": [
    "\n",
    "map_toronto = folium.Map(location=[latitude, longitude], zoom_start=11)\n",
    "\n",
    "for lat, long, post, borough, neigh in zip(df['Latitude'], df['Longitude'], df['PostCode'], df['Borough'], df['Neighborhood']):\n",
    "    label = \"{} ({}): {}\".format(borough, post, neigh)\n",
    "    popup = folium.Popup(label, parse_html=True)\n",
    "    folium.CircleMarker(\n",
    "        [lat, long],\n",
    "        radius=5,\n",
    "        popup=popup,\n",
    "        color='blue',\n",
    "        fill=True,\n",
    "        fill_color='#3186cc',\n",
    "        fill_opacity=0.7,\n",
    "        parse_html=False).add_to(map_toronto)\n",
    "    \n",
    "map_toronto"
   ]
  },
  {
   "cell_type": "markdown",
   "metadata": {},
   "source": [
    "\n",
    "##### Reducing the number of Boroughs to explore To reduce the numbers of calls to FourSquare API, we will only explore boroughs that have Toronto in their names."
   ]
  },
  {
   "cell_type": "code",
   "execution_count": 23,
   "metadata": {},
   "outputs": [
    {
     "name": "stdout",
     "output_type": "stream",
     "text": [
      "(38, 5)\n"
     ]
    },
    {
     "data": {
      "text/html": [
       "<div>\n",
       "<style scoped>\n",
       "    .dataframe tbody tr th:only-of-type {\n",
       "        vertical-align: middle;\n",
       "    }\n",
       "\n",
       "    .dataframe tbody tr th {\n",
       "        vertical-align: top;\n",
       "    }\n",
       "\n",
       "    .dataframe thead th {\n",
       "        text-align: right;\n",
       "    }\n",
       "</style>\n",
       "<table border=\"1\" class=\"dataframe\">\n",
       "  <thead>\n",
       "    <tr style=\"text-align: right;\">\n",
       "      <th></th>\n",
       "      <th>PostCode</th>\n",
       "      <th>Borough</th>\n",
       "      <th>Neighborhood</th>\n",
       "      <th>Latitude</th>\n",
       "      <th>Longitude</th>\n",
       "    </tr>\n",
       "  </thead>\n",
       "  <tbody>\n",
       "    <tr>\n",
       "      <th>0</th>\n",
       "      <td>M4E</td>\n",
       "      <td>East Toronto</td>\n",
       "      <td>The Beaches</td>\n",
       "      <td>43.676531</td>\n",
       "      <td>-79.295425</td>\n",
       "    </tr>\n",
       "    <tr>\n",
       "      <th>1</th>\n",
       "      <td>M4K</td>\n",
       "      <td>East Toronto</td>\n",
       "      <td>The Danforth West,Riverdale</td>\n",
       "      <td>43.683178</td>\n",
       "      <td>-79.355105</td>\n",
       "    </tr>\n",
       "    <tr>\n",
       "      <th>2</th>\n",
       "      <td>M4L</td>\n",
       "      <td>East Toronto</td>\n",
       "      <td>The Beaches West,India Bazaar</td>\n",
       "      <td>43.667965</td>\n",
       "      <td>-79.314667</td>\n",
       "    </tr>\n",
       "    <tr>\n",
       "      <th>3</th>\n",
       "      <td>M4M</td>\n",
       "      <td>East Toronto</td>\n",
       "      <td>Studio District</td>\n",
       "      <td>43.660629</td>\n",
       "      <td>-79.334855</td>\n",
       "    </tr>\n",
       "    <tr>\n",
       "      <th>4</th>\n",
       "      <td>M4N</td>\n",
       "      <td>Central Toronto</td>\n",
       "      <td>Lawrence Park</td>\n",
       "      <td>43.728420</td>\n",
       "      <td>-79.387133</td>\n",
       "    </tr>\n",
       "  </tbody>\n",
       "</table>\n",
       "</div>"
      ],
      "text/plain": [
       "  PostCode          Borough                   Neighborhood   Latitude  \\\n",
       "0      M4E     East Toronto                    The Beaches  43.676531   \n",
       "1      M4K     East Toronto    The Danforth West,Riverdale  43.683178   \n",
       "2      M4L     East Toronto  The Beaches West,India Bazaar  43.667965   \n",
       "3      M4M     East Toronto                Studio District  43.660629   \n",
       "4      M4N  Central Toronto                  Lawrence Park  43.728420   \n",
       "\n",
       "   Longitude  \n",
       "0 -79.295425  \n",
       "1 -79.355105  \n",
       "2 -79.314667  \n",
       "3 -79.334855  \n",
       "4 -79.387133  "
      ]
     },
     "execution_count": 23,
     "metadata": {},
     "output_type": "execute_result"
    }
   ],
   "source": [
    "toronto_boroughs = ['East Toronto', 'Central Toronto', 'Downtown Toronto', 'West Toronto']\n",
    "toronto_central_df = df[df['Borough'].isin(toronto_boroughs)].reset_index(drop=True)\n",
    "print(toronto_central_df.shape)\n",
    "toronto_central_df.head()"
   ]
  },
  {
   "cell_type": "code",
   "execution_count": 24,
   "metadata": {},
   "outputs": [
    {
     "data": {
      "text/html": [
       "<div style=\"width:100%;\"><div style=\"position:relative;width:100%;height:0;padding-bottom:60%;\"><iframe src=\"data:text/html;charset=utf-8;base64,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\" style=\"position:absolute;width:100%;height:100%;left:0;top:0;border:none !important;\" allowfullscreen webkitallowfullscreen mozallowfullscreen></iframe></div></div>"
      ],
      "text/plain": [
       "<folium.folium.Map at 0x7fed4a276eb8>"
      ]
     },
     "execution_count": 24,
     "metadata": {},
     "output_type": "execute_result"
    }
   ],
   "source": [
    "map_toronto = folium.Map(location=[latitude, longitude], zoom_start=12)\n",
    "\n",
    "\n",
    "for lat, long, post, borough, neigh in zip(toronto_central_df['Latitude'], toronto_central_df['Longitude'], toronto_central_df['PostCode'], toronto_central_df['Borough'], toronto_central_df['Neighborhood']):\n",
    "    label = \"{} ({}): {}\".format(borough, post, neigh)\n",
    "    popup = folium.Popup(label, parse_html=True)\n",
    "    folium.CircleMarker(\n",
    "        [lat, long],\n",
    "        radius=5,\n",
    "        popup=popup,\n",
    "        color='blue',\n",
    "        fill=True,\n",
    "        fill_color='#3186cc',\n",
    "        fill_opacity=0.7,\n",
    "        parse_html=False).add_to(map_toronto)\n",
    "    \n",
    "map_toronto"
   ]
  },
  {
   "cell_type": "code",
   "execution_count": 25,
   "metadata": {},
   "outputs": [
    {
     "name": "stdout",
     "output_type": "stream",
     "text": [
      "Requirement already satisfied: foursquare in /srv/conda/envs/notebook/lib/python3.7/site-packages (1!2019.9.11)\n",
      "Requirement already satisfied: requests>=2.1 in /srv/conda/envs/notebook/lib/python3.7/site-packages (from foursquare) (2.22.0)\n",
      "Requirement already satisfied: six in /srv/conda/envs/notebook/lib/python3.7/site-packages (from foursquare) (1.12.0)\n",
      "Requirement already satisfied: idna<2.9,>=2.5 in /srv/conda/envs/notebook/lib/python3.7/site-packages (from requests>=2.1->foursquare) (2.8)\n",
      "Requirement already satisfied: urllib3!=1.25.0,!=1.25.1,<1.26,>=1.21.1 in /srv/conda/envs/notebook/lib/python3.7/site-packages (from requests>=2.1->foursquare) (1.25.3)\n",
      "Requirement already satisfied: certifi>=2017.4.17 in /srv/conda/envs/notebook/lib/python3.7/site-packages (from requests>=2.1->foursquare) (2019.6.16)\n",
      "Requirement already satisfied: chardet<3.1.0,>=3.0.2 in /srv/conda/envs/notebook/lib/python3.7/site-packages (from requests>=2.1->foursquare) (3.0.4)\n",
      "Note: you may need to restart the kernel to use updated packages.\n"
     ]
    }
   ],
   "source": [
    "pip install foursquare"
   ]
  },
  {
   "cell_type": "code",
   "execution_count": 26,
   "metadata": {},
   "outputs": [],
   "source": [
    "import json\n",
    "import requests \n",
    "import pandas as pd"
   ]
  },
  {
   "cell_type": "markdown",
   "metadata": {},
   "source": [
    "##### Using FourSquare API to explore the Boroughs"
   ]
  },
  {
   "cell_type": "code",
   "execution_count": 42,
   "metadata": {},
   "outputs": [],
   "source": [
    "#put your values\n",
    "VERSION = '20180605'\n",
    "CLIENT_ID = .......\n",
    "CLIENT_SECRET = .......\n",
    "latitude = latitude\n",
    "longitude = longitude\n",
    "radius = 500\n",
    "LIMIT = 100\n",
    "\n",
    "\n",
    "\n",
    "venues = []\n",
    "\n",
    "for lat, long, post, borough, neighborhood in zip(toronto_central_df['Latitude'], toronto_central_df['Longitude'], toronto_central_df['PostCode'], toronto_central_df['Borough'], toronto_central_df['Neighborhood']):\n",
    "    url = \"https://api.foursquare.com/v2/venues/explore?client_id={}&client_secret={}&v={}&ll={},{}&radius={}&limit={}\".format(\n",
    "        CLIENT_ID,\n",
    "        CLIENT_SECRET,\n",
    "        VERSION,\n",
    "        lat,\n",
    "        long,\n",
    "        radius, \n",
    "        LIMIT)\n",
    "    \n",
    "    results = requests.get(url).json()[\"response\"]['groups'][0]['items']\n",
    "    \n",
    "    for venue in results:\n",
    "        venues.append((\n",
    "            post, \n",
    "            borough,\n",
    "            neighborhood,\n",
    "            lat, \n",
    "            long, \n",
    "            venue['venue']['name'], \n",
    "            venue['venue']['location']['lat'], \n",
    "            venue['venue']['location']['lng'],  \n",
    "            venue['venue']['categories'][0]['name']))"
   ]
  },
  {
   "cell_type": "code",
   "execution_count": 44,
   "metadata": {},
   "outputs": [
    {
     "name": "stdout",
     "output_type": "stream",
     "text": [
      "(1758, 9)\n"
     ]
    },
    {
     "data": {
      "text/html": [
       "<div>\n",
       "<style scoped>\n",
       "    .dataframe tbody tr th:only-of-type {\n",
       "        vertical-align: middle;\n",
       "    }\n",
       "\n",
       "    .dataframe tbody tr th {\n",
       "        vertical-align: top;\n",
       "    }\n",
       "\n",
       "    .dataframe thead th {\n",
       "        text-align: right;\n",
       "    }\n",
       "</style>\n",
       "<table border=\"1\" class=\"dataframe\">\n",
       "  <thead>\n",
       "    <tr style=\"text-align: right;\">\n",
       "      <th></th>\n",
       "      <th>PostCode</th>\n",
       "      <th>Borough</th>\n",
       "      <th>Neighborhood</th>\n",
       "      <th>BoroughLatitude</th>\n",
       "      <th>BoroughLongitude</th>\n",
       "      <th>VenueName</th>\n",
       "      <th>VenueLatitude</th>\n",
       "      <th>VenueLongitude</th>\n",
       "      <th>VenueCategory</th>\n",
       "    </tr>\n",
       "  </thead>\n",
       "  <tbody>\n",
       "    <tr>\n",
       "      <th>0</th>\n",
       "      <td>M4E</td>\n",
       "      <td>East Toronto</td>\n",
       "      <td>The Beaches</td>\n",
       "      <td>43.676531</td>\n",
       "      <td>-79.295425</td>\n",
       "      <td>Glen Manor Ravine</td>\n",
       "      <td>43.676821</td>\n",
       "      <td>-79.293942</td>\n",
       "      <td>Trail</td>\n",
       "    </tr>\n",
       "    <tr>\n",
       "      <th>1</th>\n",
       "      <td>M4E</td>\n",
       "      <td>East Toronto</td>\n",
       "      <td>The Beaches</td>\n",
       "      <td>43.676531</td>\n",
       "      <td>-79.295425</td>\n",
       "      <td>The Big Carrot Natural Food Market</td>\n",
       "      <td>43.678879</td>\n",
       "      <td>-79.297734</td>\n",
       "      <td>Health Food Store</td>\n",
       "    </tr>\n",
       "    <tr>\n",
       "      <th>2</th>\n",
       "      <td>M4E</td>\n",
       "      <td>East Toronto</td>\n",
       "      <td>The Beaches</td>\n",
       "      <td>43.676531</td>\n",
       "      <td>-79.295425</td>\n",
       "      <td>Grover Pub and Grub</td>\n",
       "      <td>43.679181</td>\n",
       "      <td>-79.297215</td>\n",
       "      <td>Pub</td>\n",
       "    </tr>\n",
       "    <tr>\n",
       "      <th>3</th>\n",
       "      <td>M4E</td>\n",
       "      <td>East Toronto</td>\n",
       "      <td>The Beaches</td>\n",
       "      <td>43.676531</td>\n",
       "      <td>-79.295425</td>\n",
       "      <td>Upper Beaches</td>\n",
       "      <td>43.680563</td>\n",
       "      <td>-79.292869</td>\n",
       "      <td>Neighborhood</td>\n",
       "    </tr>\n",
       "    <tr>\n",
       "      <th>4</th>\n",
       "      <td>M4K</td>\n",
       "      <td>East Toronto</td>\n",
       "      <td>The Danforth West,Riverdale</td>\n",
       "      <td>43.683178</td>\n",
       "      <td>-79.355105</td>\n",
       "      <td>Dollarama</td>\n",
       "      <td>43.686197</td>\n",
       "      <td>-79.355989</td>\n",
       "      <td>Discount Store</td>\n",
       "    </tr>\n",
       "  </tbody>\n",
       "</table>\n",
       "</div>"
      ],
      "text/plain": [
       "  PostCode       Borough                 Neighborhood  BoroughLatitude  \\\n",
       "0      M4E  East Toronto                  The Beaches        43.676531   \n",
       "1      M4E  East Toronto                  The Beaches        43.676531   \n",
       "2      M4E  East Toronto                  The Beaches        43.676531   \n",
       "3      M4E  East Toronto                  The Beaches        43.676531   \n",
       "4      M4K  East Toronto  The Danforth West,Riverdale        43.683178   \n",
       "\n",
       "   BoroughLongitude                           VenueName  VenueLatitude  \\\n",
       "0        -79.295425                   Glen Manor Ravine      43.676821   \n",
       "1        -79.295425  The Big Carrot Natural Food Market      43.678879   \n",
       "2        -79.295425                 Grover Pub and Grub      43.679181   \n",
       "3        -79.295425                       Upper Beaches      43.680563   \n",
       "4        -79.355105                           Dollarama      43.686197   \n",
       "\n",
       "   VenueLongitude      VenueCategory  \n",
       "0      -79.293942              Trail  \n",
       "1      -79.297734  Health Food Store  \n",
       "2      -79.297215                Pub  \n",
       "3      -79.292869       Neighborhood  \n",
       "4      -79.355989     Discount Store  "
      ]
     },
     "execution_count": 44,
     "metadata": {},
     "output_type": "execute_result"
    }
   ],
   "source": [
    "venues_df = pd.DataFrame(venues)\n",
    "venues_df.columns = ['PostCode', 'Borough', 'Neighborhood', 'BoroughLatitude', 'BoroughLongitude', 'VenueName', 'VenueLatitude', 'VenueLongitude', 'VenueCategory']\n",
    "print(venues_df.shape)\n",
    "venues_df.head()"
   ]
  },
  {
   "cell_type": "code",
   "execution_count": 46,
   "metadata": {},
   "outputs": [
    {
     "data": {
      "text/plain": [
       "PostCode  Borough           Neighborhood                                                                                        \n",
       "M4E       East Toronto      The Beaches                                                                                               4\n",
       "M4K       East Toronto      The Danforth West,Riverdale                                                                               4\n",
       "M4L       East Toronto      The Beaches West,India Bazaar                                                                            20\n",
       "M4M       East Toronto      Studio District                                                                                          48\n",
       "M4N       Central Toronto   Lawrence Park                                                                                             2\n",
       "M4P       Central Toronto   Davisville North                                                                                          7\n",
       "M4R       Central Toronto   North Toronto West                                                                                        4\n",
       "M4S       Central Toronto   Davisville                                                                                               25\n",
       "M4T       Central Toronto   Moore Park,Summerhill East                                                                                3\n",
       "M4V       Central Toronto   Deer Park,Forest Hill SE,Rathnelly,South Hill,Summerhill West                                             7\n",
       "M4W       Downtown Toronto  Rosedale                                                                                                  4\n",
       "M4X       Downtown Toronto  Cabbagetown,St. James Town                                                                               39\n",
       "M4Y       Downtown Toronto  Church and Wellesley                                                                                     84\n",
       "M5A       Downtown Toronto  Harbourfront,Regent Park                                                                                 42\n",
       "M5B       Downtown Toronto  Ryerson,Garden District                                                                                 100\n",
       "M5C       Downtown Toronto  St. James Town                                                                                          100\n",
       "M5E       Downtown Toronto  Berczy Park                                                                                              63\n",
       "M5G       Downtown Toronto  Central Bay Street                                                                                      100\n",
       "M5H       Downtown Toronto  Adelaide,King,Richmond                                                                                  100\n",
       "M5J       Downtown Toronto  Harbourfront East,Toronto Islands,Union Station                                                           3\n",
       "M5K       Downtown Toronto  Design Exchange,Toronto Dominion Centre                                                                 100\n",
       "M5L       Downtown Toronto  Commerce Court,Victoria Hotel                                                                           100\n",
       "M5P       Central Toronto   Forest Hill North,Forest Hill West                                                                        2\n",
       "M5R       Central Toronto   The Annex,North Midtown,Yorkville                                                                        28\n",
       "M5S       Downtown Toronto  Harbord,University of Toronto                                                                            54\n",
       "M5T       Downtown Toronto  Chinatown,Grange Park,Kensington Market                                                                  88\n",
       "M5V       Downtown Toronto  CN Tower,Bathurst Quay,Island airport,Harbourfront West,King and Spadina,Railway Lands,South Niagara     68\n",
       "M5W       Downtown Toronto  Stn A PO Boxes 25 The Esplanade                                                                         100\n",
       "M5X       Downtown Toronto  First Canadian Place,Underground city                                                                   100\n",
       "M6G       Downtown Toronto  Christie                                                                                                 11\n",
       "M6H       West Toronto      Dovercourt Village,Dufferin                                                                              18\n",
       "M6J       West Toronto      Little Portugal,Trinity                                                                                  64\n",
       "M6K       West Toronto      Brockton,Exhibition Place,Parkdale Village                                                               70\n",
       "M6P       West Toronto      High Park,The Junction South                                                                              2\n",
       "M6R       West Toronto      Parkdale,Roncesvalles                                                                                    53\n",
       "M6S       West Toronto      Runnymede,Swansea                                                                                        41\n",
       "M7Y       East Toronto      Business Reply Mail Processing Centre 969 Eastern                                                       100\n",
       "Name: VenueName, dtype: int64"
      ]
     },
     "execution_count": 46,
     "metadata": {},
     "output_type": "execute_result"
    }
   ],
   "source": [
    "venues_df.groupby(['PostCode', 'Borough', 'Neighborhood'])['VenueName'].count()\n"
   ]
  },
  {
   "cell_type": "code",
   "execution_count": 47,
   "metadata": {},
   "outputs": [
    {
     "data": {
      "text/plain": [
       "216"
      ]
     },
     "execution_count": 47,
     "metadata": {},
     "output_type": "execute_result"
    }
   ],
   "source": [
    "len(venues_df['VenueCategory'].unique())"
   ]
  },
  {
   "cell_type": "markdown",
   "metadata": {},
   "source": [
    "##### Analyze venues in each area"
   ]
  },
  {
   "cell_type": "markdown",
   "metadata": {},
   "source": [
    "##### one hot encoding"
   ]
  },
  {
   "cell_type": "code",
   "execution_count": 49,
   "metadata": {},
   "outputs": [
    {
     "name": "stdout",
     "output_type": "stream",
     "text": [
      "(1758, 219)\n"
     ]
    },
    {
     "data": {
      "text/html": [
       "<div>\n",
       "<style scoped>\n",
       "    .dataframe tbody tr th:only-of-type {\n",
       "        vertical-align: middle;\n",
       "    }\n",
       "\n",
       "    .dataframe tbody tr th {\n",
       "        vertical-align: top;\n",
       "    }\n",
       "\n",
       "    .dataframe thead th {\n",
       "        text-align: right;\n",
       "    }\n",
       "</style>\n",
       "<table border=\"1\" class=\"dataframe\">\n",
       "  <thead>\n",
       "    <tr style=\"text-align: right;\">\n",
       "      <th></th>\n",
       "      <th>PostCode</th>\n",
       "      <th>Borough</th>\n",
       "      <th>Neighborhoods</th>\n",
       "      <th>Afghan Restaurant</th>\n",
       "      <th>American Restaurant</th>\n",
       "      <th>Antique Shop</th>\n",
       "      <th>Art Gallery</th>\n",
       "      <th>Art Museum</th>\n",
       "      <th>Arts &amp; Crafts Store</th>\n",
       "      <th>Asian Restaurant</th>\n",
       "      <th>...</th>\n",
       "      <th>Trail</th>\n",
       "      <th>Train Station</th>\n",
       "      <th>Tram Station</th>\n",
       "      <th>Tunnel</th>\n",
       "      <th>Vegetarian / Vegan Restaurant</th>\n",
       "      <th>Video Game Store</th>\n",
       "      <th>Vietnamese Restaurant</th>\n",
       "      <th>Wine Bar</th>\n",
       "      <th>Wings Joint</th>\n",
       "      <th>Yoga Studio</th>\n",
       "    </tr>\n",
       "  </thead>\n",
       "  <tbody>\n",
       "    <tr>\n",
       "      <th>0</th>\n",
       "      <td>M4E</td>\n",
       "      <td>East Toronto</td>\n",
       "      <td>The Beaches</td>\n",
       "      <td>0</td>\n",
       "      <td>0</td>\n",
       "      <td>0</td>\n",
       "      <td>0</td>\n",
       "      <td>0</td>\n",
       "      <td>0</td>\n",
       "      <td>0</td>\n",
       "      <td>...</td>\n",
       "      <td>1</td>\n",
       "      <td>0</td>\n",
       "      <td>0</td>\n",
       "      <td>0</td>\n",
       "      <td>0</td>\n",
       "      <td>0</td>\n",
       "      <td>0</td>\n",
       "      <td>0</td>\n",
       "      <td>0</td>\n",
       "      <td>0</td>\n",
       "    </tr>\n",
       "    <tr>\n",
       "      <th>1</th>\n",
       "      <td>M4E</td>\n",
       "      <td>East Toronto</td>\n",
       "      <td>The Beaches</td>\n",
       "      <td>0</td>\n",
       "      <td>0</td>\n",
       "      <td>0</td>\n",
       "      <td>0</td>\n",
       "      <td>0</td>\n",
       "      <td>0</td>\n",
       "      <td>0</td>\n",
       "      <td>...</td>\n",
       "      <td>0</td>\n",
       "      <td>0</td>\n",
       "      <td>0</td>\n",
       "      <td>0</td>\n",
       "      <td>0</td>\n",
       "      <td>0</td>\n",
       "      <td>0</td>\n",
       "      <td>0</td>\n",
       "      <td>0</td>\n",
       "      <td>0</td>\n",
       "    </tr>\n",
       "    <tr>\n",
       "      <th>2</th>\n",
       "      <td>M4E</td>\n",
       "      <td>East Toronto</td>\n",
       "      <td>The Beaches</td>\n",
       "      <td>0</td>\n",
       "      <td>0</td>\n",
       "      <td>0</td>\n",
       "      <td>0</td>\n",
       "      <td>0</td>\n",
       "      <td>0</td>\n",
       "      <td>0</td>\n",
       "      <td>...</td>\n",
       "      <td>0</td>\n",
       "      <td>0</td>\n",
       "      <td>0</td>\n",
       "      <td>0</td>\n",
       "      <td>0</td>\n",
       "      <td>0</td>\n",
       "      <td>0</td>\n",
       "      <td>0</td>\n",
       "      <td>0</td>\n",
       "      <td>0</td>\n",
       "    </tr>\n",
       "    <tr>\n",
       "      <th>3</th>\n",
       "      <td>M4E</td>\n",
       "      <td>East Toronto</td>\n",
       "      <td>The Beaches</td>\n",
       "      <td>0</td>\n",
       "      <td>0</td>\n",
       "      <td>0</td>\n",
       "      <td>0</td>\n",
       "      <td>0</td>\n",
       "      <td>0</td>\n",
       "      <td>0</td>\n",
       "      <td>...</td>\n",
       "      <td>0</td>\n",
       "      <td>0</td>\n",
       "      <td>0</td>\n",
       "      <td>0</td>\n",
       "      <td>0</td>\n",
       "      <td>0</td>\n",
       "      <td>0</td>\n",
       "      <td>0</td>\n",
       "      <td>0</td>\n",
       "      <td>0</td>\n",
       "    </tr>\n",
       "    <tr>\n",
       "      <th>4</th>\n",
       "      <td>M4K</td>\n",
       "      <td>East Toronto</td>\n",
       "      <td>The Danforth West,Riverdale</td>\n",
       "      <td>0</td>\n",
       "      <td>0</td>\n",
       "      <td>0</td>\n",
       "      <td>0</td>\n",
       "      <td>0</td>\n",
       "      <td>0</td>\n",
       "      <td>0</td>\n",
       "      <td>...</td>\n",
       "      <td>0</td>\n",
       "      <td>0</td>\n",
       "      <td>0</td>\n",
       "      <td>0</td>\n",
       "      <td>0</td>\n",
       "      <td>0</td>\n",
       "      <td>0</td>\n",
       "      <td>0</td>\n",
       "      <td>0</td>\n",
       "      <td>0</td>\n",
       "    </tr>\n",
       "  </tbody>\n",
       "</table>\n",
       "<p>5 rows × 219 columns</p>\n",
       "</div>"
      ],
      "text/plain": [
       "  PostCode       Borough                Neighborhoods  Afghan Restaurant  \\\n",
       "0      M4E  East Toronto                  The Beaches                  0   \n",
       "1      M4E  East Toronto                  The Beaches                  0   \n",
       "2      M4E  East Toronto                  The Beaches                  0   \n",
       "3      M4E  East Toronto                  The Beaches                  0   \n",
       "4      M4K  East Toronto  The Danforth West,Riverdale                  0   \n",
       "\n",
       "   American Restaurant  Antique Shop  Art Gallery  Art Museum  \\\n",
       "0                    0             0            0           0   \n",
       "1                    0             0            0           0   \n",
       "2                    0             0            0           0   \n",
       "3                    0             0            0           0   \n",
       "4                    0             0            0           0   \n",
       "\n",
       "   Arts & Crafts Store  Asian Restaurant  ...  Trail  Train Station  \\\n",
       "0                    0                 0  ...      1              0   \n",
       "1                    0                 0  ...      0              0   \n",
       "2                    0                 0  ...      0              0   \n",
       "3                    0                 0  ...      0              0   \n",
       "4                    0                 0  ...      0              0   \n",
       "\n",
       "   Tram Station  Tunnel  Vegetarian / Vegan Restaurant  Video Game Store  \\\n",
       "0             0       0                              0                 0   \n",
       "1             0       0                              0                 0   \n",
       "2             0       0                              0                 0   \n",
       "3             0       0                              0                 0   \n",
       "4             0       0                              0                 0   \n",
       "\n",
       "   Vietnamese Restaurant  Wine Bar  Wings Joint  Yoga Studio  \n",
       "0                      0         0            0            0  \n",
       "1                      0         0            0            0  \n",
       "2                      0         0            0            0  \n",
       "3                      0         0            0            0  \n",
       "4                      0         0            0            0  \n",
       "\n",
       "[5 rows x 219 columns]"
      ]
     },
     "execution_count": 49,
     "metadata": {},
     "output_type": "execute_result"
    }
   ],
   "source": [
    "toronto_central_onehot = pd.get_dummies(venues_df[['VenueCategory']], prefix=\"\", prefix_sep=\"\")\n",
    "\n",
    "# add postal, borough and neighborhood column back to dataframe\n",
    "toronto_central_onehot['PostCode'] = venues_df['PostCode'] \n",
    "toronto_central_onehot['Borough'] = venues_df['Borough'] \n",
    "toronto_central_onehot['Neighborhoods'] = venues_df['Neighborhood'] \n",
    "\n",
    "# move postal, borough and neighborhood column to the first column\n",
    "fixed_columns = list(toronto_central_onehot.columns[-3:]) + list(toronto_central_onehot.columns[:-3])\n",
    "toronto_central_onehot = toronto_central_onehot[fixed_columns]\n",
    "\n",
    "print(toronto_central_onehot.shape)\n",
    "toronto_central_onehot.head()"
   ]
  },
  {
   "cell_type": "markdown",
   "metadata": {},
   "source": [
    "\n",
    "##### Get the frequency of occurance of each category in an area"
   ]
  },
  {
   "cell_type": "code",
   "execution_count": 73,
   "metadata": {},
   "outputs": [
    {
     "name": "stdout",
     "output_type": "stream",
     "text": [
      "(37, 219)\n"
     ]
    },
    {
     "data": {
      "text/html": [
       "<div>\n",
       "<style scoped>\n",
       "    .dataframe tbody tr th:only-of-type {\n",
       "        vertical-align: middle;\n",
       "    }\n",
       "\n",
       "    .dataframe tbody tr th {\n",
       "        vertical-align: top;\n",
       "    }\n",
       "\n",
       "    .dataframe thead th {\n",
       "        text-align: right;\n",
       "    }\n",
       "</style>\n",
       "<table border=\"1\" class=\"dataframe\">\n",
       "  <thead>\n",
       "    <tr style=\"text-align: right;\">\n",
       "      <th></th>\n",
       "      <th>PostCode</th>\n",
       "      <th>Borough</th>\n",
       "      <th>Neighborhoods</th>\n",
       "      <th>Afghan Restaurant</th>\n",
       "      <th>American Restaurant</th>\n",
       "      <th>Antique Shop</th>\n",
       "      <th>Art Gallery</th>\n",
       "      <th>Art Museum</th>\n",
       "      <th>Arts &amp; Crafts Store</th>\n",
       "      <th>Asian Restaurant</th>\n",
       "      <th>...</th>\n",
       "      <th>Trail</th>\n",
       "      <th>Train Station</th>\n",
       "      <th>Tram Station</th>\n",
       "      <th>Tunnel</th>\n",
       "      <th>Vegetarian / Vegan Restaurant</th>\n",
       "      <th>Video Game Store</th>\n",
       "      <th>Vietnamese Restaurant</th>\n",
       "      <th>Wine Bar</th>\n",
       "      <th>Wings Joint</th>\n",
       "      <th>Yoga Studio</th>\n",
       "    </tr>\n",
       "  </thead>\n",
       "  <tbody>\n",
       "    <tr>\n",
       "      <th>0</th>\n",
       "      <td>M4E</td>\n",
       "      <td>East Toronto</td>\n",
       "      <td>The Beaches</td>\n",
       "      <td>0.0</td>\n",
       "      <td>0.000000</td>\n",
       "      <td>0.000000</td>\n",
       "      <td>0.0</td>\n",
       "      <td>0.0</td>\n",
       "      <td>0.000000</td>\n",
       "      <td>0.0</td>\n",
       "      <td>...</td>\n",
       "      <td>0.25</td>\n",
       "      <td>0.0</td>\n",
       "      <td>0.0</td>\n",
       "      <td>0.0</td>\n",
       "      <td>0.0</td>\n",
       "      <td>0.0</td>\n",
       "      <td>0.000000</td>\n",
       "      <td>0.0</td>\n",
       "      <td>0.0</td>\n",
       "      <td>0.0</td>\n",
       "    </tr>\n",
       "    <tr>\n",
       "      <th>1</th>\n",
       "      <td>M4K</td>\n",
       "      <td>East Toronto</td>\n",
       "      <td>The Danforth West,Riverdale</td>\n",
       "      <td>0.0</td>\n",
       "      <td>0.000000</td>\n",
       "      <td>0.000000</td>\n",
       "      <td>0.0</td>\n",
       "      <td>0.0</td>\n",
       "      <td>0.000000</td>\n",
       "      <td>0.0</td>\n",
       "      <td>...</td>\n",
       "      <td>0.00</td>\n",
       "      <td>0.0</td>\n",
       "      <td>0.0</td>\n",
       "      <td>0.0</td>\n",
       "      <td>0.0</td>\n",
       "      <td>0.0</td>\n",
       "      <td>0.000000</td>\n",
       "      <td>0.0</td>\n",
       "      <td>0.0</td>\n",
       "      <td>0.0</td>\n",
       "    </tr>\n",
       "    <tr>\n",
       "      <th>2</th>\n",
       "      <td>M4L</td>\n",
       "      <td>East Toronto</td>\n",
       "      <td>The Beaches West,India Bazaar</td>\n",
       "      <td>0.0</td>\n",
       "      <td>0.000000</td>\n",
       "      <td>0.000000</td>\n",
       "      <td>0.0</td>\n",
       "      <td>0.0</td>\n",
       "      <td>0.000000</td>\n",
       "      <td>0.0</td>\n",
       "      <td>...</td>\n",
       "      <td>0.00</td>\n",
       "      <td>0.0</td>\n",
       "      <td>0.0</td>\n",
       "      <td>0.0</td>\n",
       "      <td>0.0</td>\n",
       "      <td>0.0</td>\n",
       "      <td>0.000000</td>\n",
       "      <td>0.0</td>\n",
       "      <td>0.0</td>\n",
       "      <td>0.0</td>\n",
       "    </tr>\n",
       "    <tr>\n",
       "      <th>3</th>\n",
       "      <td>M4M</td>\n",
       "      <td>East Toronto</td>\n",
       "      <td>Studio District</td>\n",
       "      <td>0.0</td>\n",
       "      <td>0.041667</td>\n",
       "      <td>0.020833</td>\n",
       "      <td>0.0</td>\n",
       "      <td>0.0</td>\n",
       "      <td>0.041667</td>\n",
       "      <td>0.0</td>\n",
       "      <td>...</td>\n",
       "      <td>0.00</td>\n",
       "      <td>0.0</td>\n",
       "      <td>0.0</td>\n",
       "      <td>0.0</td>\n",
       "      <td>0.0</td>\n",
       "      <td>0.0</td>\n",
       "      <td>0.020833</td>\n",
       "      <td>0.0</td>\n",
       "      <td>0.0</td>\n",
       "      <td>0.0</td>\n",
       "    </tr>\n",
       "    <tr>\n",
       "      <th>4</th>\n",
       "      <td>M4N</td>\n",
       "      <td>Central Toronto</td>\n",
       "      <td>Lawrence Park</td>\n",
       "      <td>0.0</td>\n",
       "      <td>0.000000</td>\n",
       "      <td>0.000000</td>\n",
       "      <td>0.0</td>\n",
       "      <td>0.0</td>\n",
       "      <td>0.000000</td>\n",
       "      <td>0.0</td>\n",
       "      <td>...</td>\n",
       "      <td>0.00</td>\n",
       "      <td>0.0</td>\n",
       "      <td>0.0</td>\n",
       "      <td>0.0</td>\n",
       "      <td>0.0</td>\n",
       "      <td>0.0</td>\n",
       "      <td>0.000000</td>\n",
       "      <td>0.0</td>\n",
       "      <td>0.0</td>\n",
       "      <td>0.0</td>\n",
       "    </tr>\n",
       "  </tbody>\n",
       "</table>\n",
       "<p>5 rows × 219 columns</p>\n",
       "</div>"
      ],
      "text/plain": [
       "  PostCode          Borough                  Neighborhoods  Afghan Restaurant  \\\n",
       "0      M4E     East Toronto                    The Beaches                0.0   \n",
       "1      M4K     East Toronto    The Danforth West,Riverdale                0.0   \n",
       "2      M4L     East Toronto  The Beaches West,India Bazaar                0.0   \n",
       "3      M4M     East Toronto                Studio District                0.0   \n",
       "4      M4N  Central Toronto                  Lawrence Park                0.0   \n",
       "\n",
       "   American Restaurant  Antique Shop  Art Gallery  Art Museum  \\\n",
       "0             0.000000      0.000000          0.0         0.0   \n",
       "1             0.000000      0.000000          0.0         0.0   \n",
       "2             0.000000      0.000000          0.0         0.0   \n",
       "3             0.041667      0.020833          0.0         0.0   \n",
       "4             0.000000      0.000000          0.0         0.0   \n",
       "\n",
       "   Arts & Crafts Store  Asian Restaurant  ...  Trail  Train Station  \\\n",
       "0             0.000000               0.0  ...   0.25            0.0   \n",
       "1             0.000000               0.0  ...   0.00            0.0   \n",
       "2             0.000000               0.0  ...   0.00            0.0   \n",
       "3             0.041667               0.0  ...   0.00            0.0   \n",
       "4             0.000000               0.0  ...   0.00            0.0   \n",
       "\n",
       "   Tram Station  Tunnel  Vegetarian / Vegan Restaurant  Video Game Store  \\\n",
       "0           0.0     0.0                            0.0               0.0   \n",
       "1           0.0     0.0                            0.0               0.0   \n",
       "2           0.0     0.0                            0.0               0.0   \n",
       "3           0.0     0.0                            0.0               0.0   \n",
       "4           0.0     0.0                            0.0               0.0   \n",
       "\n",
       "   Vietnamese Restaurant  Wine Bar  Wings Joint  Yoga Studio  \n",
       "0               0.000000       0.0          0.0          0.0  \n",
       "1               0.000000       0.0          0.0          0.0  \n",
       "2               0.000000       0.0          0.0          0.0  \n",
       "3               0.020833       0.0          0.0          0.0  \n",
       "4               0.000000       0.0          0.0          0.0  \n",
       "\n",
       "[5 rows x 219 columns]"
      ]
     },
     "execution_count": 73,
     "metadata": {},
     "output_type": "execute_result"
    }
   ],
   "source": [
    "toronto_central_venues_freq = toronto_central_onehot.groupby(['PostCode', 'Borough', 'Neighborhoods']).mean().reset_index()\n",
    "print(toronto_central_venues_freq.shape)\n",
    "toronto_central_venues_freq.head()"
   ]
  },
  {
   "cell_type": "markdown",
   "metadata": {},
   "source": [
    "##### Get 10 most occurance venue types in each area"
   ]
  },
  {
   "cell_type": "code",
   "execution_count": 74,
   "metadata": {},
   "outputs": [
    {
     "data": {
      "text/html": [
       "<div>\n",
       "<style scoped>\n",
       "    .dataframe tbody tr th:only-of-type {\n",
       "        vertical-align: middle;\n",
       "    }\n",
       "\n",
       "    .dataframe tbody tr th {\n",
       "        vertical-align: top;\n",
       "    }\n",
       "\n",
       "    .dataframe thead th {\n",
       "        text-align: right;\n",
       "    }\n",
       "</style>\n",
       "<table border=\"1\" class=\"dataframe\">\n",
       "  <thead>\n",
       "    <tr style=\"text-align: right;\">\n",
       "      <th></th>\n",
       "      <th>PostCode</th>\n",
       "      <th>Borough</th>\n",
       "      <th>Neighborhoods</th>\n",
       "      <th>1st Most Common Venue</th>\n",
       "      <th>2nd Most Common Venue</th>\n",
       "      <th>3rd Most Common Venue</th>\n",
       "      <th>4th Most Common Venue</th>\n",
       "      <th>5th Most Common Venue</th>\n",
       "      <th>6th Most Common Venue</th>\n",
       "      <th>7th Most Common Venue</th>\n",
       "      <th>8th Most Common Venue</th>\n",
       "      <th>9th Most Common Venue</th>\n",
       "      <th>10th Most Common Venue</th>\n",
       "    </tr>\n",
       "  </thead>\n",
       "  <tbody>\n",
       "    <tr>\n",
       "      <th>31</th>\n",
       "      <td>M6J</td>\n",
       "      <td>West Toronto</td>\n",
       "      <td>Little Portugal,Trinity</td>\n",
       "      <td>Bar</td>\n",
       "      <td>Restaurant</td>\n",
       "      <td>Asian Restaurant</td>\n",
       "      <td>Cocktail Bar</td>\n",
       "      <td>Coffee Shop</td>\n",
       "      <td>Bakery</td>\n",
       "      <td>Wine Bar</td>\n",
       "      <td>Vietnamese Restaurant</td>\n",
       "      <td>French Restaurant</td>\n",
       "      <td>New American Restaurant</td>\n",
       "    </tr>\n",
       "    <tr>\n",
       "      <th>1</th>\n",
       "      <td>M4K</td>\n",
       "      <td>East Toronto</td>\n",
       "      <td>The Danforth West,Riverdale</td>\n",
       "      <td>Bus Line</td>\n",
       "      <td>Park</td>\n",
       "      <td>Grocery Store</td>\n",
       "      <td>Discount Store</td>\n",
       "      <td>Yoga Studio</td>\n",
       "      <td>Elementary School</td>\n",
       "      <td>Flea Market</td>\n",
       "      <td>Fish Market</td>\n",
       "      <td>Fish &amp; Chips Shop</td>\n",
       "      <td>Fast Food Restaurant</td>\n",
       "    </tr>\n",
       "    <tr>\n",
       "      <th>4</th>\n",
       "      <td>M4N</td>\n",
       "      <td>Central Toronto</td>\n",
       "      <td>Lawrence Park</td>\n",
       "      <td>Bus Line</td>\n",
       "      <td>Swim School</td>\n",
       "      <td>Yoga Studio</td>\n",
       "      <td>Food &amp; Drink Shop</td>\n",
       "      <td>Flower Shop</td>\n",
       "      <td>Flea Market</td>\n",
       "      <td>Fish Market</td>\n",
       "      <td>Fish &amp; Chips Shop</td>\n",
       "      <td>Fast Food Restaurant</td>\n",
       "      <td>Farmers Market</td>\n",
       "    </tr>\n",
       "    <tr>\n",
       "      <th>35</th>\n",
       "      <td>M6S</td>\n",
       "      <td>West Toronto</td>\n",
       "      <td>Runnymede,Swansea</td>\n",
       "      <td>Café</td>\n",
       "      <td>Coffee Shop</td>\n",
       "      <td>Bakery</td>\n",
       "      <td>Pizza Place</td>\n",
       "      <td>Italian Restaurant</td>\n",
       "      <td>Flower Shop</td>\n",
       "      <td>Restaurant</td>\n",
       "      <td>French Restaurant</td>\n",
       "      <td>Bookstore</td>\n",
       "      <td>Pilates Studio</td>\n",
       "    </tr>\n",
       "    <tr>\n",
       "      <th>24</th>\n",
       "      <td>M5S</td>\n",
       "      <td>Downtown Toronto</td>\n",
       "      <td>Harbord,University of Toronto</td>\n",
       "      <td>Café</td>\n",
       "      <td>Coffee Shop</td>\n",
       "      <td>Restaurant</td>\n",
       "      <td>Bakery</td>\n",
       "      <td>Bar</td>\n",
       "      <td>Italian Restaurant</td>\n",
       "      <td>Japanese Restaurant</td>\n",
       "      <td>Bookstore</td>\n",
       "      <td>Gym</td>\n",
       "      <td>Pizza Place</td>\n",
       "    </tr>\n",
       "  </tbody>\n",
       "</table>\n",
       "</div>"
      ],
      "text/plain": [
       "   PostCode           Borough                  Neighborhoods  \\\n",
       "31      M6J      West Toronto        Little Portugal,Trinity   \n",
       "1       M4K      East Toronto    The Danforth West,Riverdale   \n",
       "4       M4N   Central Toronto                  Lawrence Park   \n",
       "35      M6S      West Toronto              Runnymede,Swansea   \n",
       "24      M5S  Downtown Toronto  Harbord,University of Toronto   \n",
       "\n",
       "   1st Most Common Venue 2nd Most Common Venue 3rd Most Common Venue  \\\n",
       "31                   Bar            Restaurant      Asian Restaurant   \n",
       "1               Bus Line                  Park         Grocery Store   \n",
       "4               Bus Line           Swim School           Yoga Studio   \n",
       "35                  Café           Coffee Shop                Bakery   \n",
       "24                  Café           Coffee Shop            Restaurant   \n",
       "\n",
       "   4th Most Common Venue 5th Most Common Venue 6th Most Common Venue  \\\n",
       "31          Cocktail Bar           Coffee Shop                Bakery   \n",
       "1         Discount Store           Yoga Studio     Elementary School   \n",
       "4      Food & Drink Shop           Flower Shop           Flea Market   \n",
       "35           Pizza Place    Italian Restaurant           Flower Shop   \n",
       "24                Bakery                   Bar    Italian Restaurant   \n",
       "\n",
       "   7th Most Common Venue  8th Most Common Venue 9th Most Common Venue  \\\n",
       "31              Wine Bar  Vietnamese Restaurant     French Restaurant   \n",
       "1            Flea Market            Fish Market     Fish & Chips Shop   \n",
       "4            Fish Market      Fish & Chips Shop  Fast Food Restaurant   \n",
       "35            Restaurant      French Restaurant             Bookstore   \n",
       "24   Japanese Restaurant              Bookstore                   Gym   \n",
       "\n",
       "     10th Most Common Venue  \n",
       "31  New American Restaurant  \n",
       "1      Fast Food Restaurant  \n",
       "4            Farmers Market  \n",
       "35           Pilates Studio  \n",
       "24              Pizza Place  "
      ]
     },
     "execution_count": 74,
     "metadata": {},
     "output_type": "execute_result"
    }
   ],
   "source": [
    "\n",
    "num_top_venues = 10\n",
    "\n",
    "indicators = ['st', 'nd', 'rd']\n",
    "\n",
    "# create columns according to number of top venues\n",
    "areaColumns = ['PostCode', 'Borough', 'Neighborhoods']\n",
    "freqColumns = []\n",
    "for ind in np.arange(num_top_venues):\n",
    "    try:\n",
    "        freqColumns.append('{}{} Most Common Venue'.format(ind+1, indicators[ind]))\n",
    "    except:\n",
    "        freqColumns.append('{}th Most Common Venue'.format(ind+1))\n",
    "columns = areaColumns+freqColumns\n",
    "# create a new dataframe\n",
    "neighborhoods_venues_sorted = pd.DataFrame(columns=columns)\n",
    "neighborhoods_venues_sorted['PostCode'] = toronto_central_venues_freq['PostCode']\n",
    "neighborhoods_venues_sorted['Borough'] = toronto_central_venues_freq['Borough']\n",
    "neighborhoods_venues_sorted['Neighborhoods'] = toronto_central_venues_freq['Neighborhoods']\n",
    "\n",
    "for ind in np.arange(toronto_central_venues_freq.shape[0]):\n",
    "    row_categories = toronto_central_venues_freq.iloc[ind, :].iloc[3:]\n",
    "    row_categories_sorted = row_categories.sort_values(ascending=False)\n",
    "    neighborhoods_venues_sorted.iloc[ind, 3:] = row_categories_sorted.index.values[0:num_top_venues]\n",
    "\n",
    "neighborhoods_venues_sorted.sort_values(freqColumns, inplace=True)\n",
    "neighborhoods_venues_sorted.head()"
   ]
  },
  {
   "cell_type": "markdown",
   "metadata": {},
   "source": [
    "\n",
    "##### Clustering areas\n",
    "##### Using KMeans algorigthm to cluster the toronto central areas into 3 clusters"
   ]
  },
  {
   "cell_type": "code",
   "execution_count": null,
   "metadata": {},
   "outputs": [],
   "source": [
    "kclusters = 3\n",
    "\n",
    "toronto_central_venues_freq_clustering = toronto_central_venues_freq.drop(['PostCode', 'Borough', 'Neighborhoods'], 1)\n",
    "\n",
    "kmeans = KMeans(n_clusters=kclusters, random_state=0).fit(toronto_central_venues_freq_clustering)\n",
    "kmeans.labels_[0:10]\n",
    "toronto_central_clustered_df = toronto_central_df\n",
    "toronto_central_clustered_df['Cluster'] = kmeans.labels_\n",
    "\n",
    "toronto_central_clustered_df = toronto_central_clustered_df.join(neighborhoods_venues_sorted.drop(['Borough', 'Neighborhoods'], 1).set_index('PostCode'), on='PostCode')\n",
    "toronto_central_clustered_df.sort_values(['Cluster'] + freqColumns, inplace=True)\n",
    "toronto_central_clustered_df.head()"
   ]
  },
  {
   "cell_type": "code",
   "execution_count": null,
   "metadata": {},
   "outputs": [],
   "source": []
  }
 ],
 "metadata": {
  "kernelspec": {
   "display_name": "Python 3",
   "language": "python",
   "name": "python3"
  },
  "language_info": {
   "codemirror_mode": {
    "name": "ipython",
    "version": 3
   },
   "file_extension": ".py",
   "mimetype": "text/x-python",
   "name": "python",
   "nbconvert_exporter": "python",
   "pygments_lexer": "ipython3",
   "version": "3.7.3"
  }
 },
 "nbformat": 4,
 "nbformat_minor": 4
}
